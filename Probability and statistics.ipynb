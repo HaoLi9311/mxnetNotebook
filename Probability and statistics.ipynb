{
 "metadata": {
  "name": "",
  "signature": "sha256:cbdfcf95891c5b7874592b2ce41e49556e2f363ca10d69aa503a5ddfe02020d2"
 },
 "nbformat": 3,
 "nbformat_minor": 0,
 "worksheets": [
  {
   "cells": [
    {
     "cell_type": "code",
     "collapsed": false,
     "input": [
      "import mxnet as mx\n",
      "from mxnet import nd"
     ],
     "language": "python",
     "metadata": {},
     "outputs": [],
     "prompt_number": 1
    },
    {
     "cell_type": "markdown",
     "metadata": {},
     "source": [
      "In probability we call this process of drawing examples from probability distributions sampling. The distribution which assigns probabilities to a numer of discrete choices is called the multinominal dstribution."
     ]
    },
    {
     "cell_type": "code",
     "collapsed": false,
     "input": [
      "# We can sample from the multinomial distribution via the aptly named nd.\n",
      "# sample_multinomial function.\n",
      "probabilities = nd.ones(6) / 6\n",
      "nd.sample_multinomial(probabilities)"
     ],
     "language": "python",
     "metadata": {},
     "outputs": [
      {
       "metadata": {},
       "output_type": "pyout",
       "prompt_number": 2,
       "text": [
        "\n",
        "[3]\n",
        "<NDArray 1 @cpu(0)>"
       ]
      }
     ],
     "prompt_number": 2
    },
    {
     "cell_type": "code",
     "collapsed": false,
     "input": [
      "print(nd.sample_multinomial(probabilities, shape=(10)))\n",
      "print(nd.sample_multinomial(probabilities, shape=(5,10)))"
     ],
     "language": "python",
     "metadata": {},
     "outputs": [
      {
       "output_type": "stream",
       "stream": "stdout",
       "text": [
        "\n",
        "[3 4 5 3 5 3 5 2 3 3]\n",
        "<NDArray 10 @cpu(0)>\n",
        "\n",
        "[[2 2 1 5 0 5 1 2 2 4]\n",
        " [4 3 2 3 2 5 5 0 2 0]\n",
        " [3 0 2 4 5 4 0 5 5 5]\n",
        " [2 4 4 2 3 4 4 0 4 3]\n",
        " [3 0 3 5 4 3 0 2 2 1]]\n",
        "<NDArray 5x10 @cpu(0)>\n"
       ]
      }
     ],
     "prompt_number": 3
    },
    {
     "cell_type": "code",
     "collapsed": false,
     "input": [
      "rolls = nd.sample_multinomial(probabilities, shape=(1000))"
     ],
     "language": "python",
     "metadata": {},
     "outputs": [],
     "prompt_number": 4
    },
    {
     "cell_type": "code",
     "collapsed": false,
     "input": [
      "counts = nd.zeros((6,1000))\n",
      "totals = nd.zeros(6)\n",
      "for i, roll in enumerate(rolls):\n",
      "    totals[int(roll.asscalar())] += 1\n",
      "    counts[:, i] = totals"
     ],
     "language": "python",
     "metadata": {},
     "outputs": [],
     "prompt_number": 5
    },
    {
     "cell_type": "code",
     "collapsed": false,
     "input": [
      "print(counts)\n",
      "print(totals / 1000)"
     ],
     "language": "python",
     "metadata": {},
     "outputs": [
      {
       "output_type": "stream",
       "stream": "stdout",
       "text": [
        "\n",
        "[[   0.    0.    0. ...,  165.  166.  167.]\n",
        " [   1.    1.    1. ...,  168.  168.  168.]\n",
        " [   0.    0.    0. ...,  175.  175.  175.]\n",
        " [   0.    0.    0. ...,  159.  159.  159.]\n",
        " [   0.    1.    2. ...,  158.  158.  158.]\n",
        " [   0.    0.    0. ...,  173.  173.  173.]]\n",
        "<NDArray 6x1000 @cpu(0)>\n",
        "\n",
        "[ 0.167       0.168       0.175       0.15899999  0.15800001  0.17299999]\n",
        "<NDArray 6 @cpu(0)>\n"
       ]
      }
     ],
     "prompt_number": 6
    },
    {
     "cell_type": "code",
     "collapsed": false,
     "input": [
      "x = nd.arange(1000).reshape((1,1000)) + 1\n",
      "estimates = counts / x\n",
      "print(estimates[:,0])\n",
      "print(estimates[:,1])\n",
      "print(estimates[:,100])"
     ],
     "language": "python",
     "metadata": {},
     "outputs": [
      {
       "output_type": "stream",
       "stream": "stdout",
       "text": [
        "\n",
        "[ 0.  1.  0.  0.  0.  0.]\n",
        "<NDArray 6 @cpu(0)>\n",
        "\n",
        "[ 0.   0.5  0.   0.   0.5  0. ]\n",
        "<NDArray 6 @cpu(0)>\n",
        "\n",
        "[ 0.1980198   0.15841584  0.17821783  0.18811882  0.12871288  0.14851485]\n",
        "<NDArray 6 @cpu(0)>\n"
       ]
      }
     ],
     "prompt_number": 7
    },
    {
     "cell_type": "code",
     "collapsed": false,
     "input": [
      "from matplotlib import pyplot as plt\n",
      "%matplotlib inline \n",
      "plt.plot(estimates[0, :].asnumpy(), label=\"Estimated P(die=1)\")\n",
      "plt.plot(estimates[1, :].asnumpy(), label=\"Estimated P(die=2)\")\n",
      "plt.plot(estimates[2, :].asnumpy(), label=\"Estimated P(die=3)\")\n",
      "plt.plot(estimates[3, :].asnumpy(), label=\"Estimated P(die=4)\")\n",
      "plt.plot(estimates[4, :].asnumpy(), label=\"Estimated P(die=5)\")\n",
      "plt.plot(estimates[5, :].asnumpy(), label=\"Estimated P(die=6)\")\n",
      "plt.axhline(y=0.16666, color='black', linestyle='dashed')\n",
      "plt.legend()\n",
      "plt.show()"
     ],
     "language": "python",
     "metadata": {},
     "outputs": [
      {
       "metadata": {},
       "output_type": "display_data",
       "png": "[encoded data removed]",
       "text": [
        "<matplotlib.figure.Figure at 0x7f0c05531b50>"
       ]
      }
     ],
     "prompt_number": 8
    },
    {
     "cell_type": "markdown",
     "metadata": {},
     "source": [
      "# Mixnet Naive Bayes classification"
     ]
    },
    {
     "cell_type": "code",
     "collapsed": false,
     "input": [
      "import numpy as np\n",
      "\n",
      "# we go over one observation at a time (speed doesn't matter here)\n",
      "def transform(data, label):\n",
      "    return data.astype(np.float32)/255, label.astype(np.float32)\n",
      "mnist_train = mx.gluon.data.vision.MNIST(train=True, transform=transform)\n",
      "mnist_test = mx.gluon.data.vision.MNIST(train=False, transform=transform)\n",
      "\n",
      "# Initialize the count statistics for p(y) and p(x_i|y)\n",
      "# We initialize all numbers with a count of 1 to ensure that we don't get a\n",
      "# division by zero.  Statisticians call this Laplace smoothing.\n",
      "ycount = nd.ones(shape=(10))\n",
      "xcount = nd.ones(shape=(784, 10))\n",
      "\n",
      "# Aggregate count statistics of how frequently a pixel is on (or off) for\n",
      "# zeros and ones.\n",
      "for data, label in mnist_train:\n",
      "    x = data.reshape((784,))\n",
      "    y = int(label)\n",
      "    ycount[y] += 1\n",
      "    xcount[:, y] += x\n",
      "\n",
      "# normalize the probabilities p(x_i|y) (divide per pixel counts by total\n",
      "# count)\n",
      "for i in range(10):\n",
      "    xcount[:, i] = xcount[:, i]/ycount[i]\n",
      "\n",
      "# likewise, compute the probability p(y)\n",
      "py = ycount / nd.sum(ycount)"
     ],
     "language": "python",
     "metadata": {},
     "outputs": [],
     "prompt_number": 10
    },
    {
     "cell_type": "code",
     "collapsed": false,
     "input": [
      "import matplotlib.pyplot as plt\n",
      "fig, figarr = plt.subplots(1, 10, figsize=(15, 15))\n",
      "for i in range(10):\n",
      "    figarr[i].imshow(xcount[:, i].reshape((28, 28)).asnumpy(), cmap='hot')\n",
      "    figarr[i].axes.get_xaxis().set_visible(False)\n",
      "    figarr[i].axes.get_yaxis().set_visible(False)\n",
      "\n",
      "plt.show()\n",
      "print(py)"
     ],
     "language": "python",
     "metadata": {},
     "outputs": [
      {
       "metadata": {},
       "output_type": "display_data",
       "png": "[encoded data removed]",
       "text": [
        "<matplotlib.figure.Figure at 0x7f0bf470ac50>"
       ]
      },
      {
       "output_type": "stream",
       "stream": "stdout",
       "text": [
        "\n",
        "[ 0.09871688  0.11236461  0.09930012  0.10218297  0.09736711  0.09035161\n",
        "  0.09863356  0.10441593  0.09751708  0.09915014]\n",
        "<NDArray 10 @cpu(0)>\n"
       ]
      }
     ],
     "prompt_number": 11
    },
    {
     "cell_type": "code",
     "collapsed": false,
     "input": [],
     "language": "python",
     "metadata": {},
     "outputs": []
    }
   ],
   "metadata": {}
  }
 ]
}