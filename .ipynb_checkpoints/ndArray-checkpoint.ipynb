{
 "metadata": {
  "name": "",
  "signature": "sha256:602f3c2446841aaf3263725b4b60e780464054180f1dd54bc30997aff8a35994"
 },
 "nbformat": 3,
 "nbformat_minor": 0,
 "worksheets": [
  {
   "cells": [
    {
     "cell_type": "code",
     "collapsed": false,
     "input": [
      "import mxnet as mx\n",
      "from mxnet import nd\n",
      "mx.random.seed(1)"
     ],
     "language": "python",
     "metadata": {},
     "outputs": []
    }
   ],
   "metadata": {}
  }
 ]
}