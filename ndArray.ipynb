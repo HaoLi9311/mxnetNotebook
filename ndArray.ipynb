{
 "metadata": {
  "name": "",
  "signature": "sha256:761b19e6ccf0a8e17fe53d3ca51926e61de7a8f13e426bf01051746a6b858aff"
 },
 "nbformat": 3,
 "nbformat_minor": 0,
 "worksheets": [
  {
   "cells": [
    {
     "cell_type": "code",
     "collapsed": false,
     "input": [
      "import mxnet as mx\n",
      "from mxnet import nd\n",
      "mx.random.seed(1)"
     ],
     "language": "python",
     "metadata": {},
     "outputs": [],
     "prompt_number": 2
    },
    {
     "cell_type": "code",
     "collapsed": false,
     "input": [
      "#\n",
      "nd.empty((3,4))"
     ],
     "language": "python",
     "metadata": {},
     "outputs": [
      {
       "metadata": {},
       "output_type": "pyout",
       "prompt_number": 3,
       "text": [
        "\n",
        "[[  6.07133792e-37   0.00000000e+00   7.55511502e-29   4.55996533e-41]\n",
        " [  1.32571355e-38   0.00000000e+00   1.47812998e-37   0.00000000e+00]\n",
        " [  1.12661636e-30   4.55996533e-41   1.12662237e-30   4.55996533e-41]]\n",
        "<NDArray 3x4 @cpu(0)>"
       ]
      }
     ],
     "prompt_number": 3
    },
    {
     "cell_type": "code",
     "collapsed": false,
     "input": [
      "nd.zeros((3,5))"
     ],
     "language": "python",
     "metadata": {},
     "outputs": [
      {
       "metadata": {},
       "output_type": "pyout",
       "prompt_number": 4,
       "text": [
        "\n",
        "[[ 0.  0.  0.  0.  0.]\n",
        " [ 0.  0.  0.  0.  0.]\n",
        " [ 0.  0.  0.  0.  0.]]\n",
        "<NDArray 3x5 @cpu(0)>"
       ]
      }
     ],
     "prompt_number": 4
    },
    {
     "cell_type": "code",
     "collapsed": false,
     "input": [
      "x = nd.ones((3,4))"
     ],
     "language": "python",
     "metadata": {},
     "outputs": [],
     "prompt_number": 5
    },
    {
     "cell_type": "code",
     "collapsed": false,
     "input": [
      "nd.random_normal(0,1,shape=(3,4))"
     ],
     "language": "python",
     "metadata": {},
     "outputs": [
      {
       "metadata": {},
       "output_type": "pyout",
       "prompt_number": 6,
       "text": [
        "\n",
        "[[-0.67765152  0.03629481  0.10073948 -0.49024421]\n",
        " [ 0.57595438 -0.95017916 -0.3469252   0.03751944]\n",
        " [-0.22134334 -0.72984636 -1.80471897 -2.04010558]]\n",
        "<NDArray 3x4 @cpu(0)>"
       ]
      }
     ],
     "prompt_number": 6
    },
    {
     "cell_type": "code",
     "collapsed": false,
     "input": [
      "nd.random_normal(0,1,shape=(3,4)).shape"
     ],
     "language": "python",
     "metadata": {},
     "outputs": [
      {
       "metadata": {},
       "output_type": "pyout",
       "prompt_number": 7,
       "text": [
        "(3L, 4L)"
       ]
      }
     ],
     "prompt_number": 7
    },
    {
     "cell_type": "code",
     "collapsed": false,
     "input": [
      "nd.random_normal(0,1,shape=(3,4)).size"
     ],
     "language": "python",
     "metadata": {},
     "outputs": [
      {
       "metadata": {},
       "output_type": "pyout",
       "prompt_number": 8,
       "text": [
        "12L"
       ]
      }
     ],
     "prompt_number": 8
    },
    {
     "cell_type": "code",
     "collapsed": false,
     "input": [
      "nd.ones((3,4)) + nd.random_normal(0,1,shape=(3,4))"
     ],
     "language": "python",
     "metadata": {},
     "outputs": [
      {
       "metadata": {},
       "output_type": "pyout",
       "prompt_number": 9,
       "text": [
        "\n",
        "[[ 1.07811153  1.84155583  0.61758697  0.38415879]\n",
        " [ 0.94665939  1.0196116   0.68997645  0.75578344]\n",
        " [-0.7337203   0.86579269 -0.06184852  0.48195606]]\n",
        "<NDArray 3x4 @cpu(0)>"
       ]
      }
     ],
     "prompt_number": 9
    },
    {
     "cell_type": "code",
     "collapsed": false,
     "input": [
      "y = nd.exp(nd.random_normal(0,1,shape=(3,4)))"
     ],
     "language": "python",
     "metadata": {},
     "outputs": [],
     "prompt_number": 10
    },
    {
     "cell_type": "code",
     "collapsed": false,
     "input": [
      "nd.dot(nd.ones((3,4)), y.T)"
     ],
     "language": "python",
     "metadata": {},
     "outputs": [
      {
       "metadata": {},
       "output_type": "pyout",
       "prompt_number": 11,
       "text": [
        "\n",
        "[[ 6.07576561  8.21651459  4.47607803]\n",
        " [ 6.07576561  8.21651459  4.47607803]\n",
        " [ 6.07576561  8.21651459  4.47607803]]\n",
        "<NDArray 3x3 @cpu(0)>"
       ]
      }
     ],
     "prompt_number": 11
    },
    {
     "cell_type": "code",
     "collapsed": false,
     "input": [
      "z = nd.zeros_like(x)\n",
      "print('id(z):', id(z))\n",
      "z[:] = x + y\n",
      "print('id(z):', id(z))"
     ],
     "language": "python",
     "metadata": {},
     "outputs": [
      {
       "output_type": "stream",
       "stream": "stdout",
       "text": [
        "('id(z):', 139762607177296)\n",
        "('id(z):', 139762607177296)\n"
       ]
      }
     ],
     "prompt_number": 12
    },
    {
     "cell_type": "code",
     "collapsed": false,
     "input": [
      "nd.elemwise_add(x, y, out=x)"
     ],
     "language": "python",
     "metadata": {},
     "outputs": [
      {
       "metadata": {},
       "output_type": "pyout",
       "prompt_number": 13,
       "text": [
        "\n",
        "[[ 2.04038048  2.84672284  3.01082563  2.17783642]\n",
        " [ 1.25215685  1.57285762  1.38475728  8.00674248]\n",
        " [ 1.73051333  2.57798958  2.82823181  1.33934331]]\n",
        "<NDArray 3x4 @cpu(0)>"
       ]
      }
     ],
     "prompt_number": 13
    },
    {
     "cell_type": "code",
     "collapsed": false,
     "input": [
      "x[1:3]"
     ],
     "language": "python",
     "metadata": {},
     "outputs": [
      {
       "metadata": {},
       "output_type": "pyout",
       "prompt_number": 14,
       "text": [
        "\n",
        "[[ 1.25215685  1.57285762  1.38475728  8.00674248]\n",
        " [ 1.73051333  2.57798958  2.82823181  1.33934331]]\n",
        "<NDArray 2x4 @cpu(0)>"
       ]
      }
     ],
     "prompt_number": 14
    },
    {
     "cell_type": "code",
     "collapsed": false,
     "input": [
      "x[1,2] = 9.0\n",
      "x"
     ],
     "language": "python",
     "metadata": {},
     "outputs": [
      {
       "metadata": {},
       "output_type": "pyout",
       "prompt_number": 15,
       "text": [
        "\n",
        "[[ 2.04038048  2.84672284  3.01082563  2.17783642]\n",
        " [ 1.25215685  1.57285762  9.          8.00674248]\n",
        " [ 1.73051333  2.57798958  2.82823181  1.33934331]]\n",
        "<NDArray 3x4 @cpu(0)>"
       ]
      }
     ],
     "prompt_number": 15
    },
    {
     "cell_type": "code",
     "collapsed": false,
     "input": [
      "x[1:2,1:3]"
     ],
     "language": "python",
     "metadata": {},
     "outputs": [
      {
       "metadata": {},
       "output_type": "pyout",
       "prompt_number": 16,
       "text": [
        "\n",
        "[[ 1.57285762  9.        ]]\n",
        "<NDArray 1x2 @cpu(0)>"
       ]
      }
     ],
     "prompt_number": 16
    },
    {
     "cell_type": "code",
     "collapsed": false,
     "input": [
      "x[1:2,1:3] = 5.0\n",
      "x"
     ],
     "language": "python",
     "metadata": {},
     "outputs": [
      {
       "metadata": {},
       "output_type": "pyout",
       "prompt_number": 17,
       "text": [
        "\n",
        "[[ 2.04038048  2.84672284  3.01082563  2.17783642]\n",
        " [ 1.25215685  5.          5.          8.00674248]\n",
        " [ 1.73051333  2.57798958  2.82823181  1.33934331]]\n",
        "<NDArray 3x4 @cpu(0)>"
       ]
      }
     ],
     "prompt_number": 17
    },
    {
     "cell_type": "code",
     "collapsed": false,
     "input": [
      "x = nd.ones(shape=(3,3))\n",
      "print('x = ', x)\n",
      "y = nd.arange(3)\n",
      "print('y = ', y)\n",
      "print('x + y = ', x + y)"
     ],
     "language": "python",
     "metadata": {},
     "outputs": [
      {
       "output_type": "stream",
       "stream": "stdout",
       "text": [
        "('x = ', \n",
        "[[ 1.  1.  1.]\n",
        " [ 1.  1.  1.]\n",
        " [ 1.  1.  1.]]\n",
        "<NDArray 3x3 @cpu(0)>)\n",
        "('y = ', \n",
        "[ 0.  1.  2.]\n",
        "<NDArray 3 @cpu(0)>)\n",
        "('x + y = ', \n",
        "[[ 1.  2.  3.]\n",
        " [ 1.  2.  3.]\n",
        " [ 1.  2.  3.]]\n",
        "<NDArray 3x3 @cpu(0)>)\n"
       ]
      }
     ],
     "prompt_number": 18
    },
    {
     "cell_type": "code",
     "collapsed": false,
     "input": [
      "y = y.reshape((3,1))\n",
      "print('y = ', y)\n",
      "print('x + y = ', x+y)"
     ],
     "language": "python",
     "metadata": {},
     "outputs": [
      {
       "output_type": "stream",
       "stream": "stdout",
       "text": [
        "('y = ', \n",
        "[[ 0.]\n",
        " [ 1.]\n",
        " [ 2.]]\n",
        "<NDArray 3x1 @cpu(0)>)\n",
        "('x + y = ', \n",
        "[[ 1.  1.  1.]\n",
        " [ 2.  2.  2.]\n",
        " [ 3.  3.  3.]]\n",
        "<NDArray 3x3 @cpu(0)>)\n"
       ]
      }
     ],
     "prompt_number": 19
    },
    {
     "cell_type": "code",
     "collapsed": false,
     "input": [
      "a = x.asnumpy()\n",
      "type(a)"
     ],
     "language": "python",
     "metadata": {},
     "outputs": [
      {
       "metadata": {},
       "output_type": "pyout",
       "prompt_number": 20,
       "text": [
        "numpy.ndarray"
       ]
      }
     ],
     "prompt_number": 20
    },
    {
     "cell_type": "code",
     "collapsed": false,
     "input": [
      "y = nd.array(a)\n",
      "y"
     ],
     "language": "python",
     "metadata": {},
     "outputs": [
      {
       "metadata": {},
       "output_type": "pyout",
       "prompt_number": 21,
       "text": [
        "\n",
        "[[ 1.  1.  1.]\n",
        " [ 1.  1.  1.]\n",
        " [ 1.  1.  1.]]\n",
        "<NDArray 3x3 @cpu(0)>"
       ]
      }
     ],
     "prompt_number": 21
    },
    {
     "cell_type": "code",
     "collapsed": false,
     "input": [
      "from mxnet import gpu"
     ],
     "language": "python",
     "metadata": {},
     "outputs": [],
     "prompt_number": 22
    },
    {
     "cell_type": "code",
     "collapsed": false,
     "input": [
      "x_gpu = mx.nd.ones((3, 4), mx.gpu())"
     ],
     "language": "python",
     "metadata": {},
     "outputs": [],
     "prompt_number": 37
    },
    {
     "cell_type": "code",
     "collapsed": false,
     "input": [
      "z_gpu = z.copyto(gpu(0))\n",
      "print(z_gpu)"
     ],
     "language": "python",
     "metadata": {},
     "outputs": [
      {
       "output_type": "stream",
       "stream": "stdout",
       "text": [
        "\n",
        "[[ 2.04038048  2.84672284  3.01082563  2.17783642]\n",
        " [ 1.25215685  1.57285762  1.38475728  8.00674248]\n",
        " [ 1.73051333  2.57798958  2.82823181  1.33934331]]\n",
        "<NDArray 3x4 @gpu(0)>\n"
       ]
      }
     ],
     "prompt_number": 38
    },
    {
     "cell_type": "code",
     "collapsed": false,
     "input": [
      "x_gpu + z_gpu"
     ],
     "language": "python",
     "metadata": {},
     "outputs": [
      {
       "metadata": {},
       "output_type": "pyout",
       "prompt_number": 39,
       "text": [
        "\n",
        "[[ 3.04038048  3.84672284  4.01082563  3.17783642]\n",
        " [ 2.25215673  2.57285762  2.38475728  9.00674248]\n",
        " [ 2.73051333  3.57798958  3.82823181  2.33934331]]\n",
        "<NDArray 3x4 @gpu(0)>"
       ]
      }
     ],
     "prompt_number": 39
    },
    {
     "cell_type": "code",
     "collapsed": false,
     "input": [
      "print(x_gpu.context)\n",
      "print(z_gpu.context)"
     ],
     "language": "python",
     "metadata": {},
     "outputs": [
      {
       "output_type": "stream",
       "stream": "stdout",
       "text": [
        "gpu(0)\n",
        "gpu(0)\n"
       ]
      }
     ],
     "prompt_number": 40
    },
    {
     "cell_type": "code",
     "collapsed": false,
     "input": [
      "id(z_gpu)\n",
      "id(x_gpu)"
     ],
     "language": "python",
     "metadata": {},
     "outputs": [
      {
       "metadata": {},
       "output_type": "pyout",
       "prompt_number": 41,
       "text": [
        "139762606593040"
       ]
      }
     ],
     "prompt_number": 41
    },
    {
     "cell_type": "code",
     "collapsed": false,
     "input": [],
     "language": "python",
     "metadata": {},
     "outputs": []
    }
   ],
   "metadata": {}
  }
 ]
}