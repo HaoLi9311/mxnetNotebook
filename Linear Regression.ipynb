{
 "metadata": {
  "name": "",
  "signature": "sha256:a852f9c0adb7d2b7aeb1a0c80b41c5b01a0e245de23802b8d34e2fb6648758ce"
 },
 "nbformat": 3,
 "nbformat_minor": 0,
 "worksheets": [
  {
   "cells": [
    {
     "cell_type": "markdown",
     "metadata": {},
     "source": [
      "# Linear regression from scratch"
     ]
    },
    {
     "cell_type": "markdown",
     "metadata": {},
     "source": [
      "Powerful ML libraries can eliminate repetitive work, but if you rely too much on abstractions, you might never learn how neurual networks really work under the hood. So for this first example, let's get our hands dirty and build everthing from scratch, relying only on autograd and NDArray. First we'll import the same dependencies as in the autograd chapter:"
     ]
    },
    {
     "cell_type": "code",
     "collapsed": false,
     "input": [
      "import mxnet as mx\n",
      "from mxnet import nd, autograd\n",
      "mx.random.seed(1)"
     ],
     "language": "python",
     "metadata": {},
     "outputs": [],
     "prompt_number": 1
    },
    {
     "cell_type": "markdown",
     "metadata": {},
     "source": [
      "# Linear regression"
     ]
    },
    {
     "cell_type": "markdown",
     "metadata": {},
     "source": [
      "We'll focus on the problem of linear regresion. Given a collection of data points x, and correspoding target values y, we'll try to find the line, parameterized by a vector w and intercept b that approximately best associates data points X[i] with their corresponding labels Y[i]. Using some proper math notation, we want to learn prediction.\n",
      "$\\hat{y} = X \\cdot w + b$ that minimizes the squared error across all examples\n",
      "$\\sum^{n}_{i=1}(\\hat{y_i} - y_i)^2$\n",
      "You might notice that linear regression is an ancient model and wonder why we would present a linear model as the first example in a tutorial serires on neural networks. Well it turns out that we can express linear regression as the simplest possible (useful) neurual network. A neural network is just a collection of nodes(aka neurons) connected by directed edges. In most networks, we arrange the nodes into layers with each taking input from the nodes below. To calculate the value of any node, we first perform a weighted sum of the inputs (according to weight w) and then apply an activation function. For linear regression, we have two layers, the input (depicted in orange) and a single output node ( depicted in green) and the activation function is just the identity function.\n",
      "\n",
      "In this picture, we visualize all of the componetes of each input as orange circles.\n",
      "To make things easy, we're going to work with synthetic data where we know solution, by generating random data points X[i] and labels y[i] = 2 * X[i][0] - 3.4 * X[i][1] + 4.2 + noise where the noise is drawn from a random gaussian with mean 0 and variance .1.\n",
      "In matheatical notation we'd say that the true labeling function is\n",
      "$y = X \\cdot w + b + \\eta$, for $\\eta \\sim \\mathcal{N}(0, \\sigma^2) $"
     ]
    },
    {
     "cell_type": "code",
     "collapsed": false,
     "input": [
      "num_inputs = 2\n",
      "num_outputs = 1\n",
      "num_examples = 10000\n",
      "\n",
      "def real_fn(X):\n",
      "    return 2 * X[:, 0] - 3.4 * X[:, 1] + 4.2\n",
      "\n",
      "X = nd.random_normal(shape=(num_examples, num_inputs))\n",
      "noise = .01 * nd.random_normal(shape=(num_examples,))\n",
      "y = real_fn(X) + noise"
     ],
     "language": "python",
     "metadata": {},
     "outputs": [],
     "prompt_number": 4
    },
    {
     "cell_type": "code",
     "collapsed": false,
     "input": [
      "print(X[0])\n",
      "print(y[0])"
     ],
     "language": "python",
     "metadata": {},
     "outputs": [
      {
       "output_type": "stream",
       "stream": "stdout",
       "text": [
        "\n",
        "[ 0.68151969 -0.66594374]\n",
        "<NDArray 2 @cpu(0)>\n",
        "\n",
        "[ 7.82508659]\n",
        "<NDArray 1 @cpu(0)>\n"
       ]
      }
     ],
     "prompt_number": 5
    },
    {
     "cell_type": "markdown",
     "metadata": {},
     "source": [
      "We can confirm that for any randomly chosen point, a linear combination with the (known) optimal parameters produces a prediction that is indeed close to the target value"
     ]
    },
    {
     "cell_type": "code",
     "collapsed": false,
     "input": [
      "print(2 * X[0, 0] - 3.4 * X[0, 1] + 4.2)"
     ],
     "language": "python",
     "metadata": {},
     "outputs": [
      {
       "output_type": "stream",
       "stream": "stdout",
       "text": [
        "\n",
        "[ 7.8272481]\n",
        "<NDArray 1 @cpu(0)>\n"
       ]
      }
     ],
     "prompt_number": 6
    },
    {
     "cell_type": "markdown",
     "metadata": {},
     "source": [
      "We can visualize the correspondence between our second feature (X[:, 1]) and the target values Y by generating a scatter plot with the Python plotting package matplotlib.\n",
      "\n",
      "Make sure that matplotlib is installed. Otherwise, you may install it by running pip2 install matplotlib (for Python 2) or pip3 install matplotlib (for Python 3) on your command line."
     ]
    },
    {
     "cell_type": "code",
     "collapsed": false,
     "input": [
      "import matplotlib.pyplot as plt\n",
      "%matplotlib inline  \n",
      "plt.scatter(X[:, 1].asnumpy(),y.asnumpy())\n",
      "plt.show()"
     ],
     "language": "python",
     "metadata": {},
     "outputs": [
      {
       "metadata": {},
       "output_type": "display_data",
       "png": "[encoded data removed]",
       "text": [
        "<matplotlib.figure.Figure at 0x7f68036ae410>"
       ]
      }
     ],
     "prompt_number": 8
    },
    {
     "cell_type": "markdown",
     "metadata": {},
     "source": [
      "# Data iterators"
     ]
    },
    {
     "cell_type": "markdown",
     "metadata": {},
     "source": [
      "Once we start working with neural networks, we\u2019re going to need to iterate through our data points quickly. We\u2019ll also want to be able to grab batches of k data points at a time, to shuffle our data. In MXNet, data iterators give us a nice set of utilities for fetching and manipulating data. In particular, we\u2019ll work with the simple DataLoader class, that provides an intuitive way to use an ArrayDataset for training models."
     ]
    },
    {
     "cell_type": "code",
     "collapsed": false,
     "input": [
      "batch_size = 4\n",
      "train_data = mx.gluon.data.DataLoader(mx.gluon.data.ArrayDataset(X,y), \n",
      "                                      batch_size=batch_size, shuffle=True)"
     ],
     "language": "python",
     "metadata": {},
     "outputs": [],
     "prompt_number": 9
    },
    {
     "cell_type": "markdown",
     "metadata": {},
     "source": [
      "Once we\u2019ve initialized our DataLoader (train_data), we can easily fetch batches by calling train_data.next(). batch.data gives us a list of inputs. Because our model has only one input (X), we\u2019ll just be grabbing batch.data[0]."
     ]
    },
    {
     "cell_type": "code",
     "collapsed": false,
     "input": [
      "for data, label in train_data:\n",
      "    print(data, label)\n",
      "    break"
     ],
     "language": "python",
     "metadata": {},
     "outputs": [
      {
       "output_type": "stream",
       "stream": "stdout",
       "text": [
        "(\n",
        "[[-0.18495947 -1.2386049 ]\n",
        " [ 0.46033284 -0.04991623]\n",
        " [-0.16680774  0.13838759]\n",
        " [-1.99019182  0.52972227]]\n",
        "<NDArray 4x2 @cpu(0)>, \n",
        "[ 8.03864288  5.29107189  3.39151788 -1.57235789]\n",
        "<NDArray 4 @cpu(0)>)\n"
       ]
      }
     ],
     "prompt_number": 10
    },
    {
     "cell_type": "markdown",
     "metadata": {},
     "source": [
      "Finally, we can iterate over train_data just as though it were an ordinary Python list:"
     ]
    },
    {
     "cell_type": "code",
     "collapsed": false,
     "input": [
      "counter = 0\n",
      "for data, label in train_data:\n",
      "    counter += 1\n",
      "print(counter)"
     ],
     "language": "python",
     "metadata": {},
     "outputs": [
      {
       "output_type": "stream",
       "stream": "stdout",
       "text": [
        "2500\n"
       ]
      }
     ],
     "prompt_number": 11
    },
    {
     "cell_type": "markdown",
     "metadata": {},
     "source": [
      "Now let\u2019s allocate some memory for our parameters and set their initial values."
     ]
    },
    {
     "cell_type": "code",
     "collapsed": false,
     "input": [
      "w = nd.random_normal(shape=(num_inputs, num_outputs))\n",
      "b = nd.random_normal(shape=num_outputs)\n",
      "params = [w, b]"
     ],
     "language": "python",
     "metadata": {},
     "outputs": [],
     "prompt_number": 31
    },
    {
     "cell_type": "markdown",
     "metadata": {},
     "source": [
      "In the succeeding cells, we\u2019re going to update these parameters to better fit our data. This will involve taking the gradient (a multi-dimensional derivative) of some loss function with respect to the parameters. We\u2019ll update each parameter in the direction that reduces the loss. But first, let\u2019s just allocate some memory for each gradient."
     ]
    },
    {
     "cell_type": "code",
     "collapsed": false,
     "input": [
      "for param in params:\n",
      "    param.attach_grad()"
     ],
     "language": "python",
     "metadata": {},
     "outputs": [],
     "prompt_number": 32
    },
    {
     "cell_type": "markdown",
     "metadata": {},
     "source": [
      "# Neural networks"
     ]
    },
    {
     "cell_type": "markdown",
     "metadata": {},
     "source": [
      "Next we\u2019ll want to define our model. In this case, we\u2019ll be working with linear models, the simplest possible useful neural network. To calculate the output of the linear model, we simply multiply a given input with the model\u2019s weights (w), and add the offset b."
     ]
    },
    {
     "cell_type": "code",
     "collapsed": false,
     "input": [
      "def net(X):\n",
      "    return mx.nd.dot(X, w) + b"
     ],
     "language": "python",
     "metadata": {},
     "outputs": [],
     "prompt_number": 33
    },
    {
     "cell_type": "markdown",
     "metadata": {},
     "source": [
      "Ok, that was easy."
     ]
    },
    {
     "cell_type": "markdown",
     "metadata": {},
     "source": [
      "# Loss function"
     ]
    },
    {
     "cell_type": "markdown",
     "metadata": {},
     "source": [
      "Train a model means making it better and better over the course of a period of training. But in order for this goal to make any sense at all, we first need to define what better means in the first place. In this case, we\u2019ll use the squared distance between our prediction and the true value."
     ]
    },
    {
     "cell_type": "code",
     "collapsed": false,
     "input": [
      "def square_loss(yhat, y):\n",
      "    return nd.mean((yhat - y) ** 2)"
     ],
     "language": "python",
     "metadata": {},
     "outputs": [],
     "prompt_number": 34
    },
    {
     "cell_type": "markdown",
     "metadata": {},
     "source": [
      "# Optimizer"
     ]
    },
    {
     "cell_type": "markdown",
     "metadata": {},
     "source": [
      "t turns out that linear regression actually has a closed-form solution. However, most interesting models that we\u2019ll care about cannot be solved analytically. So we\u2019ll solve this problem by stochastic gradient descent. At each step, we\u2019ll estimate the gradient of the loss with respect to our weights, using one batch randomly drawn from our dataset. Then, we\u2019ll update our parameters a small amount in the direction that reduces the loss. The size of the step is determined by the learning rate lr."
     ]
    },
    {
     "cell_type": "markdown",
     "metadata": {},
     "source": [
      "# Execute training loop"
     ]
    },
    {
     "cell_type": "markdown",
     "metadata": {},
     "source": [
      "Now that we have all the pieces all we have to do is wire them together by writing a training loop. First we\u2019ll define epochs, the number of passes to make over the dataset. Then for each pass, we\u2019ll iterate through train_data, grabbing batches of examples and their corresponding labels.\n",
      "\n",
      "For each batch, we\u2019ll go through the following ritual: * Generate predictions (yhat) and the loss (loss) by executing a forward pass through the network. * Calculate gradients by making a backwards pass through the network (loss.backward()). * Update the model parameters by invoking our SGD optimizer."
     ]
    },
    {
     "cell_type": "code",
     "collapsed": false,
     "input": [
      "def SGD(params, lr):\n",
      "    for param in params:\n",
      "        param[:] = param - lr * param.grad"
     ],
     "language": "python",
     "metadata": {},
     "outputs": [],
     "prompt_number": 37
    },
    {
     "cell_type": "code",
     "collapsed": false,
     "input": [
      "def plot(losses, X, sample_size=100):\n",
      "    xs = list(range(len(losses)))\n",
      "    f, (fg1, fg2) = plt.subplots(1, 2)\n",
      "    fg1.set_title('Loss during training')\n",
      "    fg1.plot(xs, losses, '-r')\n",
      "    fg2.set_title('Estimated vs real function')\n",
      "    fg2.plot(X[:sample_size, 1].asnumpy(),\n",
      "             net(X[:sample_size, :]).asnumpy(), 'or', label='Estimated')\n",
      "    fg2.plot(X[:sample_size, 1].asnumpy(),\n",
      "             real_fn(X[:sample_size, :]).asnumpy(), '*g', label='Real')\n",
      "    fg2.legend()\n",
      "    plt.show()"
     ],
     "language": "python",
     "metadata": {},
     "outputs": [],
     "prompt_number": 38
    },
    {
     "cell_type": "code",
     "collapsed": false,
     "input": [
      "epochs = 2\n",
      "ctx = mx.cpu()\n",
      "learning_rate = .001\n",
      "smoothing_constant = .01\n",
      "moving_loss = 0\n",
      "niter = 0\n",
      "losses = []\n",
      "plot(losses, X)\n",
      "\n",
      "\n",
      "for e in range(epochs):\n",
      "    for i, (data, label) in enumerate(train_data):\n",
      "        data = data.as_in_context(ctx)\n",
      "        label = label.as_in_context(ctx).reshape((-1, 1))\n",
      "        with autograd.record():\n",
      "            output = net(data)\n",
      "            loss = square_loss(output, label)\n",
      "        loss.backward()\n",
      "        SGD(params, learning_rate)\n",
      "\n",
      "        ##########################\n",
      "        #  Keep a moving average of the losses\n",
      "        ##########################\n",
      "        niter +=1\n",
      "        curr_loss = nd.mean(loss).asscalar()\n",
      "        moving_loss = (1 - smoothing_constant) * moving_loss + (smoothing_constant) * curr_loss\n",
      "\n",
      "        # correct the bias from the moving averages\n",
      "        est_loss = moving_loss/(1-(1-smoothing_constant)**niter)\n",
      "\n",
      "        if (i + 1) % 500 == 0:\n",
      "            print(\"Epoch %s, batch %s. Moving avg of loss: %s\" % (e, i, est_loss))\n",
      "            losses.append(est_loss)\n",
      "\n",
      "    plot(losses, X)"
     ],
     "language": "python",
     "metadata": {},
     "outputs": [
      {
       "metadata": {},
       "output_type": "display_data",
       "png": "[encoded data removed]",
       "text": [
        "<matplotlib.figure.Figure at 0x7f67f98b9850>"
       ]
      },
      {
       "output_type": "stream",
       "stream": "stdout",
       "text": [
        "Epoch 0, batch 499. Moving avg of loss: 7.74565359246\n",
        "Epoch 0, batch 999. Moving avg of loss: 1.07648057299"
       ]
      },
      {
       "output_type": "stream",
       "stream": "stdout",
       "text": [
        "\n",
        "Epoch 0, batch 1499. Moving avg of loss: 0.147766413929"
       ]
      },
      {
       "output_type": "stream",
       "stream": "stdout",
       "text": [
        "\n",
        "Epoch 0, batch 1999. Moving avg of loss: 0.0213124205183"
       ]
      },
      {
       "output_type": "stream",
       "stream": "stdout",
       "text": [
        "\n",
        "Epoch 0, batch 2499. Moving avg of loss: 0.0026829502482"
       ]
      },
      {
       "output_type": "stream",
       "stream": "stdout",
       "text": [
        "\n"
       ]
      },
      {
       "metadata": {},
       "output_type": "display_data",
       "png": "[encoded data removed]",
       "text": [
        "<matplotlib.figure.Figure at 0x7f67ffd7a550>"
       ]
      },
      {
       "output_type": "stream",
       "stream": "stdout",
       "text": [
        "Epoch 1, batch 499. Moving avg of loss: 0.000529815097471\n",
        "Epoch 1, batch 999. Moving avg of loss: 0.000147661576733"
       ]
      },
      {
       "output_type": "stream",
       "stream": "stdout",
       "text": [
        "\n",
        "Epoch 1, batch 1499. Moving avg of loss: 0.000109036731678"
       ]
      },
      {
       "output_type": "stream",
       "stream": "stdout",
       "text": [
        "\n",
        "Epoch 1, batch 1999. Moving avg of loss: 0.000100293763286"
       ]
      },
      {
       "output_type": "stream",
       "stream": "stdout",
       "text": [
        "\n",
        "Epoch 1, batch 2499. Moving avg of loss: 9.55999404148e-05"
       ]
      },
      {
       "output_type": "stream",
       "stream": "stdout",
       "text": [
        "\n"
       ]
      },
      {
       "metadata": {},
       "output_type": "display_data",
       "png": "[encoded data removed]",
       "text": [
        "<matplotlib.figure.Figure at 0x7f68033ac190>"
       ]
      }
     ],
     "prompt_number": 39
    },
    {
     "cell_type": "code",
     "collapsed": false,
     "input": [],
     "language": "python",
     "metadata": {},
     "outputs": []
    }
   ],
   "metadata": {}
  }
 ]
}